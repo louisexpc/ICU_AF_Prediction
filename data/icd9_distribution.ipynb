{
 "cells": [
  {
   "cell_type": "code",
   "execution_count": null,
   "id": "204f5c19",
   "metadata": {},
   "outputs": [],
   "source": [
    "import pandas as pd\n",
    "import numpy as np\n",
    "import os\n",
    "\n",
    "DATA = \"orgin_data_csv\"\n",
    "diag  = pd.read_csv(os.path.join(DATA,\"DIAGNOSES_ICD.csv\"),\n",
    "                    usecols=['SUBJECT_ID','HADM_ID','ICD9_CODE'])\n",
    "diag_icds = pd.read_csv(os.path.join(DATA,\"D_ICD_DIAGNOSES.csv\"))"
   ]
  },
  {
   "cell_type": "code",
   "execution_count": null,
   "id": "34afa420",
   "metadata": {},
   "outputs": [],
   "source": [
    "\"\"\"\n",
    "找出ICD9 code的分布\n",
    "\"\"\"\n",
    "\n"
   ]
  }
 ],
 "metadata": {
  "language_info": {
   "name": "python"
  }
 },
 "nbformat": 4,
 "nbformat_minor": 5
}
